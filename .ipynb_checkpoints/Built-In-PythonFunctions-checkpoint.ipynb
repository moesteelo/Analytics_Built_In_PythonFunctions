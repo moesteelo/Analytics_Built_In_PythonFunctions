{
 "cells": [
  {
   "cell_type": "markdown",
   "id": "d196f1ff",
   "metadata": {},
   "source": [
    "# Enumerate Function"
   ]
  },
  {
   "cell_type": "code",
   "execution_count": 1,
   "id": "ede7dfc1",
   "metadata": {},
   "outputs": [
    {
     "name": "stdout",
     "output_type": "stream",
     "text": [
      "0 Pandas\n",
      "1 Tigers\n",
      "2 Lions\n",
      "3 Zebra\n",
      "4 Khola Bear \n"
     ]
    }
   ],
   "source": [
    "animals = [\"Pandas\", \"Tigers\", \"Lions\", \"Zebra\", \"Khola Bear \"]\n",
    "\n",
    "for index, animals in enumerate(animals):\n",
    "    print(index, animals)"
   ]
  },
  {
   "cell_type": "code",
   "execution_count": null,
   "id": "8f14520f",
   "metadata": {},
   "outputs": [],
   "source": []
  }
 ],
 "metadata": {
  "kernelspec": {
   "display_name": "PythonData",
   "language": "python",
   "name": "pythondata"
  },
  "language_info": {
   "codemirror_mode": {
    "name": "ipython",
    "version": 3
   },
   "file_extension": ".py",
   "mimetype": "text/x-python",
   "name": "python",
   "nbconvert_exporter": "python",
   "pygments_lexer": "ipython3",
   "version": "3.7.10"
  }
 },
 "nbformat": 4,
 "nbformat_minor": 5
}
