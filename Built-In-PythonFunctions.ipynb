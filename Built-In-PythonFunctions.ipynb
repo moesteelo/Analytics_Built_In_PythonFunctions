{
 "cells": [
  {
   "cell_type": "markdown",
   "id": "cc5de393",
   "metadata": {},
   "source": [
    "# Enumerate Function"
   ]
  },
  {
   "cell_type": "code",
   "execution_count": 1,
   "id": "bbf66cf9",
   "metadata": {},
   "outputs": [
    {
     "name": "stdout",
     "output_type": "stream",
     "text": [
      "0 Pandas\n",
      "1 Tigers\n",
      "2 Lions\n",
      "3 Zebra\n",
      "4 Khola Bear \n"
     ]
    }
   ],
   "source": [
    "animals = [\"Pandas\", \"Tigers\", \"Lions\", \"Zebra\", \"Khola Bear \"]\n",
    "\n",
    "for index, animals in enumerate(animals):\n",
    "    print(index, animals)"
   ]
  },
  {
   "cell_type": "code",
   "execution_count": 2,
   "id": "11d4a556",
   "metadata": {},
   "outputs": [
    {
     "name": "stdout",
     "output_type": "stream",
     "text": [
      "1 Pandas\n",
      "2 Tigers\n",
      "3 Lions\n",
      "4 Zebra\n",
      "5 Khola Bear \n"
     ]
    }
   ],
   "source": [
    "animals = [\"Pandas\", \"Tigers\", \"Lions\", \"Zebra\", \"Khola Bear \"]\n",
    "\n",
    "for index, animals in enumerate(animals, start=1):\n",
    "    print(index, animals)"
   ]
  },
  {
   "cell_type": "code",
   "execution_count": 4,
   "id": "c2d80237",
   "metadata": {},
   "outputs": [
    {
     "name": "stdout",
     "output_type": "stream",
     "text": [
      "[(1, 'K'), (2, 'h'), (3, 'o'), (4, 'l'), (5, 'a'), (6, ' '), (7, 'B'), (8, 'e'), (9, 'a'), (10, 'r'), (11, ' ')]\n"
     ]
    }
   ],
   "source": [
    "animals = list(enumerate(animals, 1))\n",
    "print(animals)"
   ]
  },
  {
   "cell_type": "markdown",
   "id": "0f52ad9b",
   "metadata": {},
   "source": [
    "# Sorted"
   ]
  },
  {
   "cell_type": "code",
   "execution_count": 5,
   "id": "815a4bba",
   "metadata": {},
   "outputs": [
    {
     "data": {
      "text/plain": [
       "['a', 'b', 'c', 'd', 'e', 'f', 'g', 'h', 'i', 'j']"
      ]
     },
     "execution_count": 5,
     "metadata": {},
     "output_type": "execute_result"
    }
   ],
   "source": [
    "letters = [\"j\", \"b\", \"e\", \"i\", \"f\", \"c\", \"a\", \"d\", \"h\", \"g\"]\n",
    "\n",
    "sorted(letters)"
   ]
  },
  {
   "cell_type": "code",
   "execution_count": 7,
   "id": "51118937",
   "metadata": {},
   "outputs": [
    {
     "data": {
      "text/plain": [
       "[10, 9, 8, 7, 6, 5, 4, 3, 2, 1]"
      ]
     },
     "execution_count": 7,
     "metadata": {},
     "output_type": "execute_result"
    }
   ],
   "source": [
    "numbers = (6,3,7,2,10,1,4,8,5,9)\n",
    "\n",
    "sorted(numbers, reverse=True)"
   ]
  },
  {
   "cell_type": "code",
   "execution_count": null,
   "id": "cf7d354f",
   "metadata": {},
   "outputs": [],
   "source": []
  }
 ],
 "metadata": {
  "kernelspec": {
   "display_name": "PythonData",
   "language": "python",
   "name": "pythondata"
  },
  "language_info": {
   "codemirror_mode": {
    "name": "ipython",
    "version": 3
   },
   "file_extension": ".py",
   "mimetype": "text/x-python",
   "name": "python",
   "nbconvert_exporter": "python",
   "pygments_lexer": "ipython3",
   "version": "3.7.10"
  }
 },
 "nbformat": 4,
 "nbformat_minor": 5
}
