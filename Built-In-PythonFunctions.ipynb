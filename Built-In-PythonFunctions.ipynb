{
 "cells": [
  {
   "cell_type": "markdown",
   "id": "9ba52515",
   "metadata": {},
   "source": [
    "# Enumerate Function"
   ]
  },
  {
   "cell_type": "code",
   "execution_count": 1,
   "id": "c42a39f3",
   "metadata": {},
   "outputs": [
    {
     "name": "stdout",
     "output_type": "stream",
     "text": [
      "0 Pandas\n",
      "1 Tigers\n",
      "2 Lions\n",
      "3 Zebra\n",
      "4 Khola Bear \n"
     ]
    }
   ],
   "source": [
    "animals = [\"Pandas\", \"Tigers\", \"Lions\", \"Zebra\", \"Khola Bear \"]\n",
    "\n",
    "for index, animals in enumerate(animals):\n",
    "    print(index, animals)"
   ]
  },
  {
   "cell_type": "code",
   "execution_count": 2,
   "id": "41033171",
   "metadata": {},
   "outputs": [
    {
     "name": "stdout",
     "output_type": "stream",
     "text": [
      "1 Pandas\n",
      "2 Tigers\n",
      "3 Lions\n",
      "4 Zebra\n",
      "5 Khola Bear \n"
     ]
    }
   ],
   "source": [
    "animals = [\"Pandas\", \"Tigers\", \"Lions\", \"Zebra\", \"Khola Bear \"]\n",
    "\n",
    "for index, animals in enumerate(animals, start=1):\n",
    "    print(index, animals)"
   ]
  },
  {
   "cell_type": "code",
   "execution_count": 4,
   "id": "7b5df55c",
   "metadata": {},
   "outputs": [
    {
     "name": "stdout",
     "output_type": "stream",
     "text": [
      "[(1, 'K'), (2, 'h'), (3, 'o'), (4, 'l'), (5, 'a'), (6, ' '), (7, 'B'), (8, 'e'), (9, 'a'), (10, 'r'), (11, ' ')]\n"
     ]
    }
   ],
   "source": [
    "animals = list(enumerate(animals, 1))\n",
    "print(animals)"
   ]
  },
  {
   "cell_type": "code",
   "execution_count": null,
   "id": "adf9d532",
   "metadata": {},
   "outputs": [],
   "source": []
  }
 ],
 "metadata": {
  "kernelspec": {
   "display_name": "PythonData",
   "language": "python",
   "name": "pythondata"
  },
  "language_info": {
   "codemirror_mode": {
    "name": "ipython",
    "version": 3
   },
   "file_extension": ".py",
   "mimetype": "text/x-python",
   "name": "python",
   "nbconvert_exporter": "python",
   "pygments_lexer": "ipython3",
   "version": "3.7.10"
  }
 },
 "nbformat": 4,
 "nbformat_minor": 5
}
