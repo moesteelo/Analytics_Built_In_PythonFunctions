{
 "cells": [
  {
   "cell_type": "markdown",
   "id": "cc5de393",
   "metadata": {},
   "source": [
    "# Enumerate Function"
   ]
  },
  {
   "cell_type": "code",
   "execution_count": 1,
   "id": "bbf66cf9",
   "metadata": {},
   "outputs": [
    {
     "name": "stdout",
     "output_type": "stream",
     "text": [
      "0 Pandas\n",
      "1 Tigers\n",
      "2 Lions\n",
      "3 Zebra\n",
      "4 Khola Bear \n"
     ]
    }
   ],
   "source": [
    "animals = [\"Pandas\", \"Tigers\", \"Lions\", \"Zebra\", \"Khola Bear \"]\n",
    "\n",
    "for index, animals in enumerate(animals):\n",
    "    print(index, animals)"
   ]
  },
  {
   "cell_type": "code",
   "execution_count": 2,
   "id": "11d4a556",
   "metadata": {},
   "outputs": [
    {
     "name": "stdout",
     "output_type": "stream",
     "text": [
      "1 Pandas\n",
      "2 Tigers\n",
      "3 Lions\n",
      "4 Zebra\n",
      "5 Khola Bear \n"
     ]
    }
   ],
   "source": [
    "animals = [\"Pandas\", \"Tigers\", \"Lions\", \"Zebra\", \"Khola Bear \"]\n",
    "\n",
    "for index, animals in enumerate(animals, start=1):\n",
    "    print(index, animals)"
   ]
  },
  {
   "cell_type": "code",
   "execution_count": 4,
   "id": "c2d80237",
   "metadata": {},
   "outputs": [
    {
     "name": "stdout",
     "output_type": "stream",
     "text": [
      "[(1, 'K'), (2, 'h'), (3, 'o'), (4, 'l'), (5, 'a'), (6, ' '), (7, 'B'), (8, 'e'), (9, 'a'), (10, 'r'), (11, ' ')]\n"
     ]
    }
   ],
   "source": [
    "animals = list(enumerate(animals, 1))\n",
    "print(animals)"
   ]
  },
  {
   "cell_type": "markdown",
   "id": "0f52ad9b",
   "metadata": {},
   "source": [
    "# Sorted"
   ]
  },
  {
   "cell_type": "code",
   "execution_count": 5,
   "id": "815a4bba",
   "metadata": {},
   "outputs": [
    {
     "data": {
      "text/plain": [
       "['a', 'b', 'c', 'd', 'e', 'f', 'g', 'h', 'i', 'j']"
      ]
     },
     "execution_count": 5,
     "metadata": {},
     "output_type": "execute_result"
    }
   ],
   "source": [
    "letters = [\"j\", \"b\", \"e\", \"i\", \"f\", \"c\", \"a\", \"d\", \"h\", \"g\"]\n",
    "\n",
    "sorted(letters)"
   ]
  },
  {
   "cell_type": "code",
   "execution_count": 7,
   "id": "51118937",
   "metadata": {},
   "outputs": [
    {
     "data": {
      "text/plain": [
       "[10, 9, 8, 7, 6, 5, 4, 3, 2, 1]"
      ]
     },
     "execution_count": 7,
     "metadata": {},
     "output_type": "execute_result"
    }
   ],
   "source": [
    "numbers = (6,3,7,2,10,1,4,8,5,9)\n",
    "\n",
    "sorted(numbers, reverse=True)"
   ]
  },
  {
   "cell_type": "markdown",
   "id": "b441e0c2",
   "metadata": {},
   "source": [
    "# Zip"
   ]
  },
  {
   "cell_type": "code",
   "execution_count": 8,
   "id": "800599eb",
   "metadata": {},
   "outputs": [
    {
     "name": "stdout",
     "output_type": "stream",
     "text": [
      "[('Moe', 'Ahmed'), ('Moesteelo', 'nickname'), ('Mohamed', 'Ahmed'), ('Basiri', 'Tribe')]\n"
     ]
    }
   ],
   "source": [
    "firstnames = [\"Moe\", \"Moesteelo\", \"Mohamed\", \"Basiri\"]\n",
    "lastnames = [\"Ahmed\", \"nickname\", \"Ahmed\", \"Tribe\"]\n",
    "\n",
    "x = zip(firstnames, lastnames)\n",
    "print(list(x))"
   ]
  },
  {
   "cell_type": "code",
   "execution_count": 10,
   "id": "5c1fed8e",
   "metadata": {},
   "outputs": [
    {
     "name": "stdout",
     "output_type": "stream",
     "text": [
      "Moe Ahmed is 27 years old\n",
      "Moesteelo nickname is 27 years old\n",
      "Mohamed Ahmed is 27 years old\n",
      "Basiri Tribe is 200 years old\n"
     ]
    }
   ],
   "source": [
    "age = [27, 27, 27, 200]\n",
    "\n",
    "for firstname, lastname, age in zip(firstnames, lastnames, age):\n",
    "    print(f\"{firstname} {lastname} is {age} years old\")"
   ]
  },
  {
   "cell_type": "code",
   "execution_count": 11,
   "id": "4d4df64d",
   "metadata": {},
   "outputs": [
    {
     "name": "stdout",
     "output_type": "stream",
     "text": [
      "{'Moe': 'Ahmed', 'Moesteelo': 'nickname', 'Mohamed': 'Ahmed', 'Basiri': 'Tribe'}\n"
     ]
    }
   ],
   "source": [
    "y = dict(zip(firstnames, lastnames))\n",
    "print(y)\n"
   ]
  },
  {
   "cell_type": "code",
   "execution_count": 16,
   "id": "cd9482cb",
   "metadata": {},
   "outputs": [
    {
     "name": "stdout",
     "output_type": "stream",
     "text": [
      "('Moe', 'Moesteelo', 'Mohamed', 'Basiri')\n",
      "('Ahmed', 'nickname', 'Ahmed', 'Tribe')\n"
     ]
    }
   ],
   "source": [
    "# Unpack lsit of tuples \n",
    "\n",
    "fullnames = [(\"Moe\",\"Ahmed\"), (\"Moesteelo\", \"nickname\"), (\"Mohamed\",\"Ahmed\"), (\"Basiri\", \"Tribe\")]\n",
    "firstnames, lastnames = zip(*fullnames)\n",
    "\n",
    "print(firstnames)\n",
    "print(lastnames)\n"
   ]
  },
  {
   "cell_type": "markdown",
   "id": "51b5e68e",
   "metadata": {},
   "source": [
    "# Map "
   ]
  },
  {
   "cell_type": "code",
   "execution_count": 18,
   "id": "877c055b",
   "metadata": {},
   "outputs": [
    {
     "name": "stdout",
     "output_type": "stream",
     "text": [
      "[2, 4, 6, 8, 10]\n"
     ]
    }
   ],
   "source": [
    "numbers = [1,2,3,4,5]\n",
    "\n",
    "def num_doubler(number):\n",
    "    return number * 2\n",
    "\n",
    "x= map(num_doubler, numbers)\n",
    "print(list(x))"
   ]
  },
  {
   "cell_type": "markdown",
   "id": "3499c02d",
   "metadata": {},
   "source": [
    "# Filter "
   ]
  },
  {
   "cell_type": "code",
   "execution_count": 20,
   "id": "7bbabb81",
   "metadata": {},
   "outputs": [
    {
     "name": "stdout",
     "output_type": "stream",
     "text": [
      "[10, 8, 6, 4, 2]\n"
     ]
    }
   ],
   "source": [
    "numbers = [10, 9, 8, 7, 6, 5, 4, 3, 2, 1]\n",
    "\n",
    "def is_even(numbers):\n",
    "    return numbers % 2 == 0\n",
    "\n",
    "x= filter(is_even, numbers)\n",
    "\n",
    "print(list(x))"
   ]
  },
  {
   "cell_type": "markdown",
   "id": "fdcbf22e",
   "metadata": {},
   "source": [
    "# IsInstance"
   ]
  },
  {
   "cell_type": "code",
   "execution_count": 23,
   "id": "20877b6b",
   "metadata": {},
   "outputs": [
    {
     "name": "stdout",
     "output_type": "stream",
     "text": [
      "True\n",
      "True\n",
      "False\n",
      "True\n"
     ]
    }
   ],
   "source": [
    "a = [1,2,3,4,5]\n",
    "b = (4,2)\n",
    "c = 'abcde'\n",
    "d = 8\n",
    "\n",
    "print(isinstance(a, list))\n",
    "\n",
    "print(isinstance(b, tuple))\n",
    "\n",
    "print(isinstance(c, set))\n",
    "\n",
    "print(isinstance(d, int))"
   ]
  },
  {
   "cell_type": "markdown",
   "id": "8dbc2314",
   "metadata": {},
   "source": [
    "# Range "
   ]
  },
  {
   "cell_type": "code",
   "execution_count": 24,
   "id": "77f59946",
   "metadata": {},
   "outputs": [
    {
     "name": "stdout",
     "output_type": "stream",
     "text": [
      "[0, 1, 2, 3, 4, 5]\n",
      "[1, 2, 3, 4, 5]\n",
      "[2, 4, 6, 8, 10]\n"
     ]
    }
   ],
   "source": [
    "# List if numbers from 0 to 5\n",
    "print(list(range(6)))\n",
    "\n",
    "# List of numbers from 1 to 5\n",
    "print(list(range(1,6)))\n",
    "\n",
    "# List of even numbers from 2 to 10\n",
    "print(list(range(2,11,2)))"
   ]
  },
  {
   "cell_type": "markdown",
   "id": "91856094",
   "metadata": {},
   "source": [
    "# Round "
   ]
  },
  {
   "cell_type": "code",
   "execution_count": 25,
   "id": "2be92ebc",
   "metadata": {},
   "outputs": [
    {
     "name": "stdout",
     "output_type": "stream",
     "text": [
      "3\n",
      "3.14\n"
     ]
    }
   ],
   "source": [
    "pi = 3.1415926559\n",
    "\n",
    "print(round(pi))\n",
    "print(round(pi, 2))"
   ]
  },
  {
   "cell_type": "markdown",
   "id": "b452014d",
   "metadata": {},
   "source": [
    "# Set"
   ]
  },
  {
   "cell_type": "code",
   "execution_count": 26,
   "id": "0569ed14",
   "metadata": {},
   "outputs": [
    {
     "name": "stdout",
     "output_type": "stream",
     "text": [
      "{1, 2, 3, 4, 5, 'a', 'b'}\n"
     ]
    }
   ],
   "source": [
    "a = [1,2,3,4,5,5, \"a\", \"b\", \"b\"]\n",
    "\n",
    "b = set(a)\n",
    "\n",
    "print(b)"
   ]
  },
  {
   "cell_type": "markdown",
   "id": "ba2e3845",
   "metadata": {},
   "source": [
    "# All and Any"
   ]
  },
  {
   "cell_type": "code",
   "execution_count": 27,
   "id": "ddf28ddb",
   "metadata": {},
   "outputs": [
    {
     "name": "stdout",
     "output_type": "stream",
     "text": [
      "True\n",
      "False\n"
     ]
    }
   ],
   "source": [
    "# Check if all numbers in the list are even\n",
    "\n",
    "print(all([number%2 == 0 for number in [2,4,6,8,10]]))\n",
    "\n",
    "print(all([number%2 == 0 for number in [1,2,3,4,5]]))"
   ]
  },
  {
   "cell_type": "code",
   "execution_count": 28,
   "id": "c3c1bda5",
   "metadata": {},
   "outputs": [
    {
     "name": "stdout",
     "output_type": "stream",
     "text": [
      "True\n",
      "False\n"
     ]
    }
   ],
   "source": [
    "print(any([number%2 == 0 for number in [1,2,3,4,5]]))\n",
    "\n",
    "print(any([number%2 == 0 for number in [1,3,5,7,9]]))"
   ]
  },
  {
   "cell_type": "markdown",
   "id": "c7f1b478",
   "metadata": {},
   "source": [
    "# Eval"
   ]
  },
  {
   "cell_type": "code",
   "execution_count": 30,
   "id": "80ed158f",
   "metadata": {},
   "outputs": [
    {
     "name": "stdout",
     "output_type": "stream",
     "text": [
      "6\n",
      "4\n",
      "12\n"
     ]
    }
   ],
   "source": [
    "print(eval(\"2+4\"))\n",
    "\n",
    "print(eval(\"2**2\"))\n",
    "           \n",
    "print(eval(\"sum([2,4,6])\"))"
   ]
  },
  {
   "cell_type": "markdown",
   "id": "bd2ccba5",
   "metadata": {},
   "source": [
    "# Format "
   ]
  },
  {
   "cell_type": "code",
   "execution_count": 31,
   "id": "c0e5d9ea",
   "metadata": {},
   "outputs": [
    {
     "name": "stdout",
     "output_type": "stream",
     "text": [
      "123.35\n",
      "57.5%\n",
      "+1.23e+02\n",
      "1010\n"
     ]
    }
   ],
   "source": [
    "# Float to two decimals plces\n",
    "print(format(123.34567897, '.2f'))\n",
    "\n",
    "# Float to percentage with one decimal place\n",
    "print(format(0.5746, '.1%'))\n",
    "\n",
    "# Exponential notation \n",
    "print(format(123.456789, '+.2e'))\n",
    "\n",
    "# Binary\n",
    "print(format(10, 'b'))\n"
   ]
  },
  {
   "cell_type": "code",
   "execution_count": null,
   "id": "d024ceb5",
   "metadata": {},
   "outputs": [],
   "source": [
    "git "
   ]
  }
 ],
 "metadata": {
  "kernelspec": {
   "display_name": "PythonData",
   "language": "python",
   "name": "pythondata"
  },
  "language_info": {
   "codemirror_mode": {
    "name": "ipython",
    "version": 3
   },
   "file_extension": ".py",
   "mimetype": "text/x-python",
   "name": "python",
   "nbconvert_exporter": "python",
   "pygments_lexer": "ipython3",
   "version": "3.7.10"
  }
 },
 "nbformat": 4,
 "nbformat_minor": 5
}
